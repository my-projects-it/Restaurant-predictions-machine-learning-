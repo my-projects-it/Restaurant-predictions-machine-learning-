{
 "cells": [
  {
   "cell_type": "code",
   "execution_count": 76,
   "id": "4f02adb8-ae85-4d80-a970-2de41ee1f75b",
   "metadata": {},
   "outputs": [
    {
     "name": "stdout",
     "output_type": "stream",
     "text": [
      "<class 'pandas.core.frame.DataFrame'>\n",
      "RangeIndex: 9551 entries, 0 to 9550\n",
      "Data columns (total 21 columns):\n",
      " #   Column                Non-Null Count  Dtype  \n",
      "---  ------                --------------  -----  \n",
      " 0   Restaurant ID         9551 non-null   int64  \n",
      " 1   Restaurant Name       9551 non-null   object \n",
      " 2   Country Code          9551 non-null   int64  \n",
      " 3   City                  9551 non-null   object \n",
      " 4   Address               9551 non-null   object \n",
      " 5   Locality              9551 non-null   object \n",
      " 6   Locality Verbose      9551 non-null   object \n",
      " 7   Longitude             9551 non-null   float64\n",
      " 8   Latitude              9551 non-null   float64\n",
      " 9   Cuisines              9542 non-null   object \n",
      " 10  Average Cost for two  9551 non-null   int64  \n",
      " 11  Currency              9551 non-null   object \n",
      " 12  Has Table booking     9551 non-null   object \n",
      " 13  Has Online delivery   9551 non-null   object \n",
      " 14  Is delivering now     9551 non-null   object \n",
      " 15  Switch to order menu  9551 non-null   object \n",
      " 16  Price range           9551 non-null   int64  \n",
      " 17  Aggregate rating      9551 non-null   float64\n",
      " 18  Rating color          9551 non-null   object \n",
      " 19  Rating text           9551 non-null   object \n",
      " 20  Votes                 9551 non-null   int64  \n",
      "dtypes: float64(3), int64(5), object(13)\n",
      "memory usage: 1.5+ MB\n",
      "None\n"
     ]
    }
   ],
   "source": [
    "# import necessary libraries\n",
    "import pandas as pd\n",
    "from sklearn.metrics.pairwise import linear_kernel\n",
    "from sklearn.feature_extraction.text import TfidfVectorizer\n",
    "data=pd.read_csv('Dataset .csv')  # load the dataset\n",
    "print(data.info())"
   ]
  },
  {
   "cell_type": "code",
   "execution_count": 77,
   "id": "dfb01aa4-3eb2-40dd-8bdd-53172269537b",
   "metadata": {},
   "outputs": [
    {
     "name": "stdout",
     "output_type": "stream",
     "text": [
      "   Restaurant ID         Restaurant Name  Country Code              City  \\\n",
      "0        6317637        Le Petit Souffle           162       Makati City   \n",
      "1        6304287        Izakaya Kikufuji           162       Makati City   \n",
      "2        6300002  Heat - Edsa Shangri-La           162  Mandaluyong City   \n",
      "3        6318506                    Ooma           162  Mandaluyong City   \n",
      "4        6314302             Sambo Kojin           162  Mandaluyong City   \n",
      "\n",
      "                                             Address  \\\n",
      "0  Third Floor, Century City Mall, Kalayaan Avenu...   \n",
      "1  Little Tokyo, 2277 Chino Roces Avenue, Legaspi...   \n",
      "2  Edsa Shangri-La, 1 Garden Way, Ortigas, Mandal...   \n",
      "3  Third Floor, Mega Fashion Hall, SM Megamall, O...   \n",
      "4  Third Floor, Mega Atrium, SM Megamall, Ortigas...   \n",
      "\n",
      "                                     Locality  \\\n",
      "0   Century City Mall, Poblacion, Makati City   \n",
      "1  Little Tokyo, Legaspi Village, Makati City   \n",
      "2  Edsa Shangri-La, Ortigas, Mandaluyong City   \n",
      "3      SM Megamall, Ortigas, Mandaluyong City   \n",
      "4      SM Megamall, Ortigas, Mandaluyong City   \n",
      "\n",
      "                                    Locality Verbose   Longitude   Latitude  \\\n",
      "0  Century City Mall, Poblacion, Makati City, Mak...  121.027535  14.565443   \n",
      "1  Little Tokyo, Legaspi Village, Makati City, Ma...  121.014101  14.553708   \n",
      "2  Edsa Shangri-La, Ortigas, Mandaluyong City, Ma...  121.056831  14.581404   \n",
      "3  SM Megamall, Ortigas, Mandaluyong City, Mandal...  121.056475  14.585318   \n",
      "4  SM Megamall, Ortigas, Mandaluyong City, Mandal...  121.057508  14.584450   \n",
      "\n",
      "                           Cuisines  ...  Has Table booking  \\\n",
      "0        French, Japanese, Desserts  ...                Yes   \n",
      "1                          Japanese  ...                Yes   \n",
      "2  Seafood, Asian, Filipino, Indian  ...                Yes   \n",
      "3                   Japanese, Sushi  ...                 No   \n",
      "4                  Japanese, Korean  ...                Yes   \n",
      "\n",
      "  Has Online delivery Is delivering now Switch to order menu Price range  \\\n",
      "0                  No                No                   No           3   \n",
      "1                  No                No                   No           3   \n",
      "2                  No                No                   No           4   \n",
      "3                  No                No                   No           4   \n",
      "4                  No                No                   No           4   \n",
      "\n",
      "  Aggregate rating  Rating color  Rating text Votes  \\\n",
      "0              4.8    Dark Green    Excellent   314   \n",
      "1              4.5    Dark Green    Excellent   591   \n",
      "2              4.4         Green    Very Good   270   \n",
      "3              4.9    Dark Green    Excellent   365   \n",
      "4              4.8    Dark Green    Excellent   229   \n",
      "\n",
      "                    Combined_features  \n",
      "0        French, Japanese, Desserts 3  \n",
      "1                          Japanese 3  \n",
      "2  Seafood, Asian, Filipino, Indian 4  \n",
      "3                   Japanese, Sushi 4  \n",
      "4                  Japanese, Korean 4  \n",
      "\n",
      "[5 rows x 22 columns]\n"
     ]
    }
   ],
   "source": [
    "data.isnull().sum()\n",
    "# replacing null values\n",
    "data['Cuisines'].fillna(data['Cuisines'].mode())\n",
    "# preprocess the dataset\n",
    "data['Combined_features']=data['Cuisines'].fillna(\"\")+' '+data['Price range'].astype(str)\n",
    "# implement TF-IDF Vectorizer\n",
    "tfidf=TfidfVectorizer(stop_words='english')\n",
    "tfidf_matrix=tfidf.fit_transform(data['Combined_features'])\n",
    "# calculate cosine similarity matrix\n",
    "cosine_similarity=linear_kernel(tfidf_matrix, tfidf_matrix)\n",
    "print(data.head())"
   ]
  },
  {
   "cell_type": "code",
   "execution_count": 125,
   "id": "a6e5816f-4150-43ff-a8e6-558649ea931b",
   "metadata": {
    "editable": true,
    "slideshow": {
     "slide_type": ""
    },
    "tags": []
   },
   "outputs": [],
   "source": [
    "# function to get recommendations\n",
    "def recommend_restaurants(location, cosine_similarity=cosine_similarity):\n",
    "    if location not in data['City'].values:\n",
    "      return \"Not Found\"\n",
    "    idx=data.index[data['City']==location].tolist()[0]\n",
    "    sim_scores=list(enumerate(cosine_similarity[idx]))\n",
    "    sim_scores=sorted(sim_scores, key=lambda x: x[1])\n",
    "    sim_scores=sim_scores[1:10]\n",
    "    restaurant_indices=[i[0] for i in sim_scores]\n",
    "    return data[['Restaurant Name', 'Cuisines', 'Price range', 'City', 'Aggregate rating']].iloc[restaurant_indices]"
   ]
  },
  {
   "cell_type": "code",
   "execution_count": 131,
   "id": "eb8164aa-49ee-4eeb-b87b-0f854f849095",
   "metadata": {},
   "outputs": [
    {
     "name": "stdout",
     "output_type": "stream",
     "text": [
      "Relevant Restaurants in Recommendations:\n",
      "                             Restaurant Name  \\\n",
      "2                     Heat - Edsa Shangri-La   \n",
      "3                                       Ooma   \n",
      "5                               Din Tai Fung   \n",
      "6                                 Buffet 101   \n",
      "7                                    Vikings   \n",
      "8   Spiral - Sofitel Philippine Plaza Manila   \n",
      "9                                   Locavore   \n",
      "10                          Silantro Fil-Mex   \n",
      "12                          Silantro Fil-Mex   \n",
      "\n",
      "                              Cuisines  Price range              City  \\\n",
      "2     Seafood, Asian, Filipino, Indian            4  Mandaluyong City   \n",
      "3                      Japanese, Sushi            4  Mandaluyong City   \n",
      "5                              Chinese            3  Mandaluyong City   \n",
      "6                      Asian, European            4        Pasay City   \n",
      "7   Seafood, Filipino, Asian, European            4        Pasay City   \n",
      "8              European, Asian, Indian            4        Pasay City   \n",
      "9                             Filipino            3        Pasig City   \n",
      "10                   Filipino, Mexican            3        Pasig City   \n",
      "12                   Filipino, Mexican            3       Quezon City   \n",
      "\n",
      "    Aggregate rating  \n",
      "2                4.4  \n",
      "3                4.9  \n",
      "5                4.4  \n",
      "6                4.0  \n",
      "7                4.2  \n",
      "8                4.9  \n",
      "9                4.8  \n",
      "10               4.9  \n",
      "12               4.8  \n"
     ]
    }
   ],
   "source": [
    "# test the recommendation system\n",
    "RR=recommend_restaurants('Taguig City')\n",
    "print(\"Relevant Restaurants in Recommendations:\")\n",
    "print(RR)"
   ]
  },
  {
   "cell_type": "markdown",
   "id": "41fbaff3-a6bf-4494-ab7f-0f99c66ee55a",
   "metadata": {},
   "source": [
    "# Conclusion:\n",
    "# 1-Relevant features(cuisines, price range, locality) are extracted.\n",
    "# 2-Cosine similarity is used to measure the similarity between restaurants based on their features.\n",
    "# 3-Given a user's preferred location, the system finds the most similar restaurants and recommends them."
   ]
  },
  {
   "cell_type": "code",
   "execution_count": null,
   "id": "74380c7c-007a-4962-ae47-f01482e47bd2",
   "metadata": {},
   "outputs": [],
   "source": []
  }
 ],
 "metadata": {
  "kernelspec": {
   "display_name": "Python [conda env:base] *",
   "language": "python",
   "name": "conda-base-py"
  },
  "language_info": {
   "codemirror_mode": {
    "name": "ipython",
    "version": 3
   },
   "file_extension": ".py",
   "mimetype": "text/x-python",
   "name": "python",
   "nbconvert_exporter": "python",
   "pygments_lexer": "ipython3",
   "version": "3.12.7"
  }
 },
 "nbformat": 4,
 "nbformat_minor": 5
}
